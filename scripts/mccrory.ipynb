{
 "cells": [
  {
   "cell_type": "code",
   "execution_count": 1,
   "id": "d984b33b",
   "metadata": {},
   "outputs": [],
   "source": [
    "%load_ext autoreload\n",
    "%autoreload 2"
   ]
  },
  {
   "cell_type": "code",
   "execution_count": 2,
   "id": "138c160d",
   "metadata": {},
   "outputs": [],
   "source": [
    "import sys\n",
    "sys.path.append(\"../\")\n",
    "from ccfm.ccfm import (\n",
    "    load_cfm_traces, \n",
    "    make_3d_fault_mesh, \n",
    "    load_nshm_traces, \n",
    "    load_canada_traces,\n",
    "    make_tri_mesh,\n",
    "    write_cfm_tri_meshes,\n",
    "    write_cfm_trace_geojson,\n",
    ")"
   ]
  },
  {
   "cell_type": "code",
   "execution_count": 3,
   "id": "54843f6d",
   "metadata": {},
   "outputs": [],
   "source": [
    "from ccfm.geom import (\n",
    "    sample_polyline,\n",
    "    sample_polyline_to_n_pts,\n",
    "    add_fixed_elev_to_trace,\n",
    "    _draw_pt_profile,\n",
    "    get_contours_from_profiles,\n",
    "    haversine_distance,\n",
    "    _straight_profile_n_pts,\n",
    "    EARTH_RAD_KM,\n",
    ")"
   ]
  },
  {
   "cell_type": "code",
   "execution_count": 4,
   "id": "adec0871",
   "metadata": {},
   "outputs": [],
   "source": [
    "from ccfm.cfm_io import make_3d_tri_multipolygon, write_json"
   ]
  },
  {
   "cell_type": "code",
   "execution_count": 5,
   "id": "6250453d",
   "metadata": {},
   "outputs": [],
   "source": [
    "import json\n",
    "import numpy as np\n",
    "import matplotlib.pyplot as plt"
   ]
  },
  {
   "cell_type": "code",
   "execution_count": 6,
   "id": "36320458",
   "metadata": {},
   "outputs": [],
   "source": [
    "trace_file = '../input_fault_data/mccrory/Modeled_Slab_contours_GCS_WGS84.geojson'\n",
    "\n",
    "with open(trace_file) as f:\n",
    "    trace_gj = json.load(f)\n",
    "    \n",
    "    traces = []\n",
    "    \n",
    "    for f in trace_gj['features']:\n",
    "        trace = {'geometry': {\n",
    "            'coordinates': f['geometry']['coordinates'][0]},\n",
    "                 'properties': {\n",
    "                     'depth': f['properties']['Contour'] * 1000.0}}\n",
    "        traces.append(trace)\n",
    "\n",
    "traces = sorted(traces, key=lambda x: x['properties']['depth'],\n",
    "                reverse=True)"
   ]
  },
  {
   "cell_type": "code",
   "execution_count": 7,
   "id": "b65f9a67",
   "metadata": {},
   "outputs": [],
   "source": [
    "def prepare_fault_contours(fault_contours, **kwargs):\n",
    "    #fc_sorted = sorted(fault_contours, key=lambda x: x['properties']['level'])\n",
    "    trace = traces[0]\n",
    "    trace_sampled = sample_polyline(trace['geometry']['coordinates'], **kwargs)\n",
    "    trace_sampled = add_fixed_elev_to_trace(trace_sampled, trace['properties']['depth'])\n",
    "    \n",
    "    contours_out = []\n",
    "    contours_out.append(trace_sampled)\n",
    "    \n",
    "    n_trace_pts = len(trace_sampled)\n",
    "    for trace in traces[1:]:\n",
    "        trace_sampled = sample_polyline_to_n_pts(trace['geometry']['coordinates'], n_trace_pts)\n",
    "        trace_sampled = add_fixed_elev_to_trace(trace_sampled, trace['properties']['depth'])\n",
    "        contours_out.append(trace_sampled)\n",
    "    \n",
    "    \n",
    "    return contours_out"
   ]
  },
  {
   "cell_type": "code",
   "execution_count": 8,
   "id": "041d0461",
   "metadata": {},
   "outputs": [],
   "source": [
    "prepped_contours = prepare_fault_contours(traces, pt_distance=5.0)"
   ]
  },
  {
   "cell_type": "code",
   "execution_count": 9,
   "id": "700341b8",
   "metadata": {},
   "outputs": [],
   "source": [
    "def make_mesh_from_prepared_contours(contours, vert_pt_spacing=None, down_dip_pt_spacing=None):\n",
    "    #if (vert_pt_spacing is None) and (down_dip_pt_spacing is None):\n",
    "    #    raise ValueError(\"Need vert_pt_spacing or down_dip_pt_spacing\")\n",
    "    #elif (vert_pt_spacing is not None) and (down_dip_pt_spacing is not None):\n",
    "    #    raise ValueError(\"Choose vert_pt_spacing or down_dip_pt_spacing\")\n",
    "    \n",
    "    num_contour_sets = len(contours) - 1\n",
    "    \n",
    "    all_contours = []\n",
    "    \n",
    "    for i_cs in range(num_contour_sets):\n",
    "        top_contour_elev = contours[i_cs][0][2]\n",
    "        bottom_contour_elev = contours[i_cs+1][0][2]\n",
    "        vert_distance = (top_contour_elev - bottom_contour_elev) / 1000.\n",
    "        \n",
    "        # get horizontal distance between points\n",
    "        # using first point\n",
    "        hor_distance = haversine_distance(contours[i_cs][0][0],\n",
    "                                          contours[i_cs][0][1],\n",
    "                                          contours[i_cs+1][0][0],\n",
    "                                          contours[i_cs+1][0][1],\n",
    "                                         )\n",
    "        \n",
    "        down_dip_distance = np.sqrt(vert_distance**2 + hor_distance**2)\n",
    "        \n",
    "        n_pts = int(round( down_dip_distance / down_dip_pt_spacing)) + 1\n",
    "          \n",
    "        profiles = [_draw_pt_profile(contours[i_cs][j],\n",
    "                                     contours[i_cs+1][j],\n",
    "                                     n_pts)\n",
    "                    for j in range(len(contours[i_cs]))]\n",
    "        \n",
    "        \n",
    "        if i_cs == 0:\n",
    "            return_top = True\n",
    "        else:\n",
    "            return_top = False\n",
    "        \n",
    "        contour_set = get_contours_from_profiles(profiles,\n",
    "                                                return_top,\n",
    "                                                )\n",
    "        all_contours.extend(contour_set)\n",
    "        \n",
    "    return all_contours"
   ]
  },
  {
   "cell_type": "code",
   "execution_count": 10,
   "id": "d8eba768",
   "metadata": {},
   "outputs": [],
   "source": [
    "def make_3d_geojson_from_contours(fault_contours, fault=None,\n",
    "                                  horiz_pt_spacing=10.0,\n",
    "                                  vert_pt_spacing=None, \n",
    "                                  down_dip_pt_spacing=10.0,\n",
    "                                 return_mesh=False):\n",
    "\n",
    "    \n",
    "    prepped_contours = prepare_fault_contours(fault_contours, \n",
    "                                              pt_distance=horiz_pt_spacing)\n",
    "    mesh = make_mesh_from_prepared_contours(prepped_contours,\n",
    "                                            down_dip_pt_spacing=down_dip_pt_spacing)\n",
    "    tri_mesh = make_tri_mesh(mesh)\n",
    "    if return_mesh:\n",
    "        return tri_mesh\n",
    "    \n",
    "    if fault is None:\n",
    "        fault = {'properties': {}}\n",
    "    gj_feature = make_3d_tri_multipolygon(fault, tri_mesh)\n",
    "    \n",
    "    return gj_feature"
   ]
  },
  {
   "cell_type": "code",
   "execution_count": 11,
   "id": "d6b76a5e",
   "metadata": {},
   "outputs": [],
   "source": [
    "fault_info = {'properties':{\n",
    "    'name': 'mccrory_2012_cascadia_interface',\n",
    "    'source': 'McCrory et al. 2012 JGR'\n",
    "}}"
   ]
  },
  {
   "cell_type": "code",
   "execution_count": 12,
   "id": "e63fbe3d",
   "metadata": {},
   "outputs": [],
   "source": [
    "fgj = make_3d_geojson_from_contours(traces,\n",
    "                                    return_mesh=True,\n",
    "                                   )"
   ]
  },
  {
   "cell_type": "code",
   "execution_count": 13,
   "id": "384286d3",
   "metadata": {},
   "outputs": [],
   "source": [
    "write_cfm_tri_meshes(\n",
    "    \"../crescent_cfm_files/mccrory_2012_cascadia_interface.geojson\",\n",
    "    [fgj],\n",
    "    [fault_info],\n",
    "    minify=True\n",
    ")"
   ]
  },
  {
   "cell_type": "code",
   "execution_count": null,
   "id": "88755e23",
   "metadata": {},
   "outputs": [],
   "source": []
  }
 ],
 "metadata": {
  "kernelspec": {
   "display_name": "Python 3 (ipykernel)",
   "language": "python",
   "name": "python3"
  },
  "language_info": {
   "codemirror_mode": {
    "name": "ipython",
    "version": 3
   },
   "file_extension": ".py",
   "mimetype": "text/x-python",
   "name": "python",
   "nbconvert_exporter": "python",
   "pygments_lexer": "ipython3",
   "version": "3.10.6"
  }
 },
 "nbformat": 4,
 "nbformat_minor": 5
}
