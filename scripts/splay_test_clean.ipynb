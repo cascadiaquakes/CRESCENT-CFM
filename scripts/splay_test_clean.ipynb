{
 "cells": [
  {
   "cell_type": "code",
   "execution_count": 1,
   "id": "47e0750b",
   "metadata": {},
   "outputs": [],
   "source": [
    "import sys\n",
    "sys.path.append(\"../\")\n",
    "from ccfm.ccfm import (\n",
    "    load_cfm_traces, \n",
    "    make_3d_fault_mesh, \n",
    "    load_nshm_traces, \n",
    "    load_canada_traces,\n",
    "    make_tri_mesh,\n",
    "    write_cfm_tri_meshes,\n",
    "    write_cfm_trace_geojson,\n",
    ")"
   ]
  },
  {
   "cell_type": "code",
   "execution_count": 2,
   "id": "3983b728",
   "metadata": {},
   "outputs": [],
   "source": [
    "from ccfm.geom import (\n",
    "    sample_polyline,\n",
    "    sample_polyline_to_n_pts,\n",
    "    add_fixed_elev_to_trace,\n",
    "    _draw_pt_profile,\n",
    "    get_contours_from_profiles,\n",
    "    haversine_distance,\n",
    "    _straight_profile_n_pts,\n",
    "    EARTH_RAD_KM,\n",
    ")"
   ]
  },
  {
   "cell_type": "code",
   "execution_count": 3,
   "id": "ed7c08a2",
   "metadata": {},
   "outputs": [],
   "source": [
    "from ccfm.cfm_io import make_3d_tri_multipolygon, write_json"
   ]
  },
  {
   "cell_type": "code",
   "execution_count": 4,
   "id": "5eb231a7",
   "metadata": {},
   "outputs": [],
   "source": [
    "import json\n",
    "import numpy as np\n",
    "import matplotlib.pyplot as plt"
   ]
  },
  {
   "cell_type": "code",
   "execution_count": 5,
   "id": "5aaa078f",
   "metadata": {},
   "outputs": [],
   "source": [
    "trace_file = '../misc_data/test_data/3d_test_faults.geojson'\n",
    "\n",
    "with open(trace_file) as f:\n",
    "    trace_gj = json.load(f)\n",
    "    \n",
    "    traces = {}\n",
    "    for f in trace_gj['features']:\n",
    "        traces[int(f['properties']['id'])] = f"
   ]
  },
  {
   "cell_type": "code",
   "execution_count": 6,
   "id": "db455de8",
   "metadata": {},
   "outputs": [],
   "source": [
    "# contours from the Manastash fault\n",
    "man_contours = [traces[0], traces[1], traces[4]]"
   ]
  },
  {
   "cell_type": "code",
   "execution_count": 7,
   "id": "398f04bb",
   "metadata": {},
   "outputs": [],
   "source": [
    "def prepare_fault_contours(fault_contours, **kwargs):\n",
    "    fc_sorted = sorted(fault_contours, key=lambda x: x['properties']['level'])\n",
    "    trace = fc_sorted[0]\n",
    "    trace_sampled = sample_polyline(trace['geometry']['coordinates'], **kwargs)\n",
    "    trace_sampled = add_fixed_elev_to_trace(trace_sampled, trace['properties']['depth'])\n",
    "    \n",
    "    contours_out = []\n",
    "    contours_out.append(trace_sampled)\n",
    "    \n",
    "    n_trace_pts = len(trace_sampled)\n",
    "    for trace in fc_sorted[1:]:\n",
    "        trace_sampled = sample_polyline_to_n_pts(trace['geometry']['coordinates'], n_trace_pts)\n",
    "        trace_sampled = add_fixed_elev_to_trace(trace_sampled, trace['properties']['depth'])\n",
    "        contours_out.append(trace_sampled)\n",
    "    \n",
    "    \n",
    "    return contours_out"
   ]
  },
  {
   "cell_type": "code",
   "execution_count": 8,
   "id": "b9998179",
   "metadata": {},
   "outputs": [],
   "source": [
    "prepped_contours = prepare_fault_contours(man_contours, pt_distance=2.0)"
   ]
  },
  {
   "cell_type": "code",
   "execution_count": 9,
   "id": "ea0d12ce",
   "metadata": {},
   "outputs": [],
   "source": [
    "def make_mesh_from_prepared_contours(contours, vert_pt_spacing=None, down_dip_pt_spacing=None):\n",
    "    #if (vert_pt_spacing is None) and (down_dip_pt_spacing is None):\n",
    "    #    raise ValueError(\"Need vert_pt_spacing or down_dip_pt_spacing\")\n",
    "    #elif (vert_pt_spacing is not None) and (down_dip_pt_spacing is not None):\n",
    "    #    raise ValueError(\"Choose vert_pt_spacing or down_dip_pt_spacing\")\n",
    "    \n",
    "    num_contour_sets = len(contours) - 1\n",
    "    \n",
    "    all_contours = []\n",
    "    \n",
    "    for i_cs in range(num_contour_sets):\n",
    "        top_contour_elev = contours[i_cs][0][2]\n",
    "        bottom_contour_elev = contours[i_cs+1][0][2]\n",
    "        vert_distance = (top_contour_elev - bottom_contour_elev) / 1000.\n",
    "        \n",
    "        # get horizontal distance between points\n",
    "        # using first point\n",
    "        hor_distance = haversine_distance(contours[i_cs][0][0],\n",
    "                                          contours[i_cs][0][1],\n",
    "                                          contours[i_cs+1][0][0],\n",
    "                                          contours[i_cs+1][0][1],\n",
    "                                         )\n",
    "        \n",
    "        down_dip_distance = np.sqrt(vert_distance**2 + hor_distance**2)\n",
    "        \n",
    "        n_pts = int(round( down_dip_distance / down_dip_pt_spacing)) + 1    \n",
    "          \n",
    "        profiles = [_draw_pt_profile(contours[i_cs][j],\n",
    "                                     contours[i_cs+1][j],\n",
    "                                     n_pts)\n",
    "                    for j in range(len(contours[i_cs]))]\n",
    "        \n",
    "        if i_cs == 0:\n",
    "            return_top = True\n",
    "        else:\n",
    "            return_top = False\n",
    "        \n",
    "        contour_set = get_contours_from_profiles(profiles,\n",
    "                                                return_top,\n",
    "                                                )\n",
    "        all_contours.extend(contour_set)\n",
    "        \n",
    "    return all_contours\n",
    "    "
   ]
  },
  {
   "cell_type": "code",
   "execution_count": 10,
   "id": "e49a9604",
   "metadata": {},
   "outputs": [],
   "source": [
    "profs = make_mesh_from_prepared_contours(prepped_contours, \n",
    "                                         down_dip_pt_spacing=2.0)"
   ]
  },
  {
   "cell_type": "code",
   "execution_count": 11,
   "id": "eb680ac5",
   "metadata": {},
   "outputs": [],
   "source": [
    "def make_3d_geojson_from_contours(fault_contours, #fault=None,\n",
    "                                  horiz_pt_spacing=2.0,\n",
    "                                  vert_pt_spacing=None, \n",
    "                                  down_dip_pt_spacing=None):\n",
    "    prepped_contours = prepare_fault_contours(fault_contours, \n",
    "                                              pt_distance=horiz_pt_spacing)\n",
    "    mesh = make_mesh_from_prepared_contours(prepped_contours,\n",
    "                                            down_dip_pt_spacing=down_dip_pt_spacing)\n",
    "    tri_mesh = make_tri_mesh(mesh)\n",
    "\n",
    "    return tri_mesh"
   ]
  },
  {
   "cell_type": "code",
   "execution_count": 12,
   "id": "d0228ef2",
   "metadata": {},
   "outputs": [],
   "source": [
    "fgj = make_3d_geojson_from_contours(man_contours, \n",
    "                                    horiz_pt_spacing=2.0,\n",
    "                                    down_dip_pt_spacing=2.0)"
   ]
  },
  {
   "cell_type": "code",
   "execution_count": 13,
   "id": "1d0b84be",
   "metadata": {},
   "outputs": [],
   "source": [
    "write_cfm_tri_meshes(\"../misc_data/test_data/3d_test_meshes.geojson\",\n",
    "                     [fgj],\n",
    "                     [{'properties':{'name': 'manastash_3d'}}],)"
   ]
  },
  {
   "cell_type": "code",
   "execution_count": null,
   "id": "7e566b3f",
   "metadata": {},
   "outputs": [],
   "source": []
  }
 ],
 "metadata": {
  "kernelspec": {
   "display_name": "Python 3 (ipykernel)",
   "language": "python",
   "name": "python3"
  },
  "language_info": {
   "codemirror_mode": {
    "name": "ipython",
    "version": 3
   },
   "file_extension": ".py",
   "mimetype": "text/x-python",
   "name": "python",
   "nbconvert_exporter": "python",
   "pygments_lexer": "ipython3",
   "version": "3.10.6"
  }
 },
 "nbformat": 4,
 "nbformat_minor": 5
}
