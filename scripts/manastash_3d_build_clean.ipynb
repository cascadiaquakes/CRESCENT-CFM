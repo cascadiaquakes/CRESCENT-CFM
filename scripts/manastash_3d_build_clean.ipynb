{
 "cells": [
  {
   "cell_type": "code",
   "execution_count": 2,
   "id": "cde686e9",
   "metadata": {},
   "outputs": [],
   "source": [
    "import numpy as np\n",
    "import pandas as pd\n",
    "import json\n",
    "import matplotlib.pyplot as plt\n",
    "\n",
    "\n",
    "import sys\n",
    "sys.path.append(\"../\")\n",
    "from ccfm.ccfm import (\n",
    "    load_cfm_traces, \n",
    "    make_3d_fault_mesh, \n",
    "    load_nshm_traces, \n",
    "    load_canada_traces,\n",
    "    make_tri_mesh,\n",
    "    write_cfm_tri_meshes,\n",
    "    write_cfm_trace_geojson,\n",
    ")\n",
    "\n",
    "from ccfm.geom import (\n",
    "    sample_polyline,\n",
    "    sample_polyline_to_n_pts,\n",
    "    add_fixed_elev_to_trace,\n",
    "    _draw_pt_profile,\n",
    "    get_contours_from_profiles,\n",
    "    haversine_distance,\n",
    "    _straight_profile_n_pts,\n",
    "    EARTH_RAD_KM,\n",
    "    get_values_at_coordinates,\n",
    "    get_resampled_trace_elevations,\n",
    ")\n",
    "\n",
    "from ccfm.cfm_io import make_3d_tri_multipolygon, write_json\n",
    "\n",
    "import json"
   ]
  },
  {
   "cell_type": "code",
   "execution_count": 3,
   "id": "949a56fe",
   "metadata": {},
   "outputs": [],
   "source": [
    "yfp_contour_file = \"../misc_data/cross_sections/yakima_folds/yakima_fault_contours.geojson\"\n",
    "\n",
    "with open(yfp_contour_file) as f:\n",
    "    ygj = json.load(f)\n",
    "    \n",
    "    contours = {}\n",
    "    for ff in ygj['features']:\n",
    "        contours[ff['properties']['name']] = ff"
   ]
  },
  {
   "cell_type": "code",
   "execution_count": 4,
   "id": "a16c462e",
   "metadata": {},
   "outputs": [],
   "source": [
    "man_contours = [\n",
    "    contours['manastash_w_trace'],\n",
    "    contours['manastash_w_1'],\n",
    "    contours['manastash_w_2'],\n",
    "    contours['manastash-767'],\n",
    "    contours['manastash-1612'],\n",
    "    contours['manastash-2201'],\n",
    "    contours['manastash-2289'],\n",
    "    contours['manastash-2864'],\n",
    "    contours['manastash-3159'],\n",
    "    contours['manastash-3360'],\n",
    "    contours['manastash-3709'],\n",
    "    contours['manastash-4100'],\n",
    "    contours['manastash-4634'],\n",
    "    contours['manastash-4894'],\n",
    "    contours['manastash-9053'],\n",
    "]"
   ]
  },
  {
   "cell_type": "code",
   "execution_count": 5,
   "id": "ce78e8b9",
   "metadata": {},
   "outputs": [],
   "source": [
    "def prepare_fault_contours(fault_contours, **kwargs):\n",
    "    #fc_sorted = sorted(fault_contours, key=lambda x: x['properties']['level'])\n",
    "    fc_sorted = fault_contours\n",
    "    trace = fc_sorted[0]\n",
    "    trace_sampled = sample_polyline(trace['geometry']['coordinates'], **kwargs)\n",
    "    trace_sampled = add_fixed_elev_to_trace(trace_sampled, trace['properties']['elev'])\n",
    "    \n",
    "    contours_out = []\n",
    "    contours_out.append(trace_sampled)\n",
    "    \n",
    "    n_trace_pts = len(trace_sampled)\n",
    "    for trace in fc_sorted[1:]:\n",
    "        trace_sampled = sample_polyline_to_n_pts(trace['geometry']['coordinates'], n_trace_pts)\n",
    "        trace_sampled = add_fixed_elev_to_trace(trace_sampled, trace['properties']['elev'])\n",
    "        contours_out.append(trace_sampled)\n",
    "    \n",
    "    \n",
    "    return contours_out"
   ]
  },
  {
   "cell_type": "code",
   "execution_count": 6,
   "id": "ada8f2a7",
   "metadata": {},
   "outputs": [],
   "source": [
    "prepped_contours = prepare_fault_contours(man_contours, pt_distance=0.5)"
   ]
  },
  {
   "cell_type": "code",
   "execution_count": 7,
   "id": "41637383",
   "metadata": {},
   "outputs": [
    {
     "data": {
      "text/plain": [
       "[[-120.89737255321434, 47.00394668470463, 99999.0],\n",
       " [-120.88868051077874, 47.00003032914189, 99999.0],\n",
       " [-120.8794868162351, 46.996739511385094, 99999.0],\n",
       " [-120.86922090879504, 46.99554350398029, 99999.0],\n",
       " [-120.858899079289, 46.994608594290966, 99999.0],\n",
       " [-120.84999072681913, 46.991096209657876, 99999.0],\n",
       " [-120.84226807658952, 46.986523245041795, 99999.0],\n",
       " [-120.8332023083075, 46.9831631078073, 99999.0],\n",
       " [-120.82532729660785, 46.978528814431556, 99999.0],\n",
       " [-120.81789592292643, 46.97356031985565, 99999.0],\n",
       " [-120.81087514628314, 46.968345668863144, 99999.0],\n",
       " [-120.80306641188292, 46.96370205129712, 99999.0],\n",
       " [-120.79362990508517, 46.96073109541091, 99999.0],\n",
       " [-120.78383868968207, 46.95845836152079, 99999.0],\n",
       " [-120.77343930116226, 46.95817428391393, 99999.0],\n",
       " [-120.76303313496649, 46.95823449319486, 99999.0],\n",
       " [-120.75263382845742, 46.958495327246865, 99999.0],\n",
       " [-120.74243969038766, 46.95964476622231, 99999.0],\n",
       " [-120.73262387413025, 46.96185838734606, 99999.0],\n",
       " [-120.72223615436044, 46.96185049005157, 99999.0],\n",
       " [-120.71184477490183, 46.96163230149837, 99999.0],\n",
       " [-120.70162293227983, 46.96297714278477, 99999.0],\n",
       " [-120.69129832028422, 46.96290300393836, 99999.0],\n",
       " [-120.68155949744438, 46.96539478246302, 99999.0],\n",
       " [-120.67132144083334, 46.966611627602745, 99999.0],\n",
       " [-120.66142365750721, 46.96506076844188, 99999.0],\n",
       " [-120.65153456339144, 46.96343582020664, 99999.0],\n",
       " [-120.64117886396639, 46.96275214545631, 99999.0],\n",
       " [-120.63102251031007, 46.96294453185407, 99999.0],\n",
       " [-120.6211800365755, 46.96504929031022, 99999.0],\n",
       " [-120.61081246091052, 46.965256740609036, 99999.0],\n",
       " [-120.60074745246986, 46.96381611585005, 99999.0],\n",
       " [-120.59121086057996, 46.96098951109584, 99999.0],\n",
       " [-120.58107203746657, 46.959971417702896, 99999.0],\n",
       " [-120.57177908956938, 46.95794395619788, 99999.0],\n",
       " [-120.56583312751593, 46.95230618370855, 99999.0],\n",
       " [-120.55668471444818, 46.94927297609196, 99999.0],\n",
       " [-120.55047378634858, 46.94357658461716, 99999.0],\n",
       " [-120.5419447560185, 46.93982488859868, 99999.0],\n",
       " [-120.53386205612601, 46.93552143831085, 99999.0],\n",
       " [-120.5246670178684, 46.932460244047235, 99999.0],\n",
       " [-120.51720230659197, 46.92752987076506, 99999.0],\n",
       " [-120.51037877974522, 46.92217265081963, 99999.0],\n",
       " [-120.50346668944073, 46.91687306807422, 99999.0],\n",
       " [-120.49386735681, 46.9141665410555, 99999.0],\n",
       " [-120.48374676339202, 46.91514650737405, 99999.0],\n",
       " [-120.47753052470726, 46.909656433482496, 99999.0]]"
      ]
     },
     "execution_count": 7,
     "metadata": {},
     "output_type": "execute_result"
    }
   ],
   "source": [
    "prepped_contours[0]"
   ]
  },
  {
   "cell_type": "code",
   "execution_count": 11,
   "id": "335528cb",
   "metadata": {},
   "outputs": [],
   "source": [
    "manastash_w_trace_elevs = get_values_at_coordinates(\"/Users/itchy/gis/dems/srtm/pnw_30m_wgs84.tif\",\n",
    "                          [c[:2] for c in prepped_contours[0]])"
   ]
  },
  {
   "cell_type": "code",
   "execution_count": 12,
   "id": "e9a6fca0",
   "metadata": {},
   "outputs": [],
   "source": [
    "for i, c in enumerate(prepped_contours[0]):\n",
    "    c[2] = manastash_w_trace_elevs[i]"
   ]
  },
  {
   "cell_type": "code",
   "execution_count": 13,
   "id": "2853f22b",
   "metadata": {},
   "outputs": [
    {
     "data": {
      "text/plain": [
       "[[-120.89737255321434, 47.00394668470463, 1244],\n",
       " [-120.88868051077874, 47.00003032914189, 1285],\n",
       " [-120.8794868162351, 46.996739511385094, 1207],\n",
       " [-120.86922090879504, 46.99554350398029, 1096],\n",
       " [-120.858899079289, 46.994608594290966, 1009],\n",
       " [-120.84999072681913, 46.991096209657876, 1005],\n",
       " [-120.84226807658952, 46.986523245041795, 981],\n",
       " [-120.8332023083075, 46.9831631078073, 943],\n",
       " [-120.82532729660785, 46.978528814431556, 928],\n",
       " [-120.81789592292643, 46.97356031985565, 977],\n",
       " [-120.81087514628314, 46.968345668863144, 945],\n",
       " [-120.80306641188292, 46.96370205129712, 898],\n",
       " [-120.79362990508517, 46.96073109541091, 830],\n",
       " [-120.78383868968207, 46.95845836152079, 872],\n",
       " [-120.77343930116226, 46.95817428391393, 896],\n",
       " [-120.76303313496649, 46.95823449319486, 908],\n",
       " [-120.75263382845742, 46.958495327246865, 879],\n",
       " [-120.74243969038766, 46.95964476622231, 915],\n",
       " [-120.73262387413025, 46.96185838734606, 852],\n",
       " [-120.72223615436044, 46.96185049005157, 863],\n",
       " [-120.71184477490183, 46.96163230149837, 853],\n",
       " [-120.70162293227983, 46.96297714278477, 817],\n",
       " [-120.69129832028422, 46.96290300393836, 827],\n",
       " [-120.68155949744438, 46.96539478246302, 702],\n",
       " [-120.67132144083334, 46.966611627602745, 632],\n",
       " [-120.66142365750721, 46.96506076844188, 613],\n",
       " [-120.65153456339144, 46.96343582020664, 632],\n",
       " [-120.64117886396639, 46.96275214545631, 667],\n",
       " [-120.63102251031007, 46.96294453185407, 611],\n",
       " [-120.6211800365755, 46.96504929031022, 549],\n",
       " [-120.61081246091052, 46.965256740609036, 520],\n",
       " [-120.60074745246986, 46.96381611585005, 523],\n",
       " [-120.59121086057996, 46.96098951109584, 519],\n",
       " [-120.58107203746657, 46.959971417702896, 495],\n",
       " [-120.57177908956938, 46.95794395619788, 467],\n",
       " [-120.56583312751593, 46.95230618370855, 474],\n",
       " [-120.55668471444818, 46.94927297609196, 456],\n",
       " [-120.55047378634858, 46.94357658461716, 455],\n",
       " [-120.5419447560185, 46.93982488859868, 443],\n",
       " [-120.53386205612601, 46.93552143831085, 448],\n",
       " [-120.5246670178684, 46.932460244047235, 433],\n",
       " [-120.51720230659197, 46.92752987076506, 436],\n",
       " [-120.51037877974522, 46.92217265081963, 434],\n",
       " [-120.50346668944073, 46.91687306807422, 568],\n",
       " [-120.49386735681, 46.9141665410555, 569],\n",
       " [-120.48374676339202, 46.91514650737405, 532],\n",
       " [-120.47753052470726, 46.909656433482496, 600]]"
      ]
     },
     "execution_count": 13,
     "metadata": {},
     "output_type": "execute_result"
    }
   ],
   "source": [
    "prepped_contours[0]"
   ]
  },
  {
   "cell_type": "code",
   "execution_count": 14,
   "id": "a26390e8",
   "metadata": {},
   "outputs": [],
   "source": [
    "def make_mesh_from_prepared_contours(contours, vert_pt_spacing=None, down_dip_pt_spacing=None):\n",
    "\n",
    "    num_contour_sets = len(contours) - 1\n",
    "    \n",
    "    all_contours = []\n",
    "    \n",
    "    for i_cs in range(num_contour_sets):\n",
    "        top_contour_elev = contours[i_cs][0][2]\n",
    "        bottom_contour_elev = contours[i_cs+1][0][2]\n",
    "        vert_distance = (top_contour_elev - bottom_contour_elev) / 1000.\n",
    "        \n",
    "        # get horizontal distance between points\n",
    "        # using first point\n",
    "        hor_distance = haversine_distance(contours[i_cs][0][0],\n",
    "                                          contours[i_cs][0][1],\n",
    "                                          contours[i_cs+1][0][0],\n",
    "                                          contours[i_cs+1][0][1],\n",
    "                                         )\n",
    "        \n",
    "        down_dip_distance = np.sqrt(vert_distance**2 + hor_distance**2)\n",
    "        \n",
    "        n_pts = int(round( down_dip_distance / down_dip_pt_spacing)) + 1\n",
    "          \n",
    "        profiles = [_draw_pt_profile(contours[i_cs][j],\n",
    "                                     contours[i_cs+1][j],\n",
    "                                     n_pts)\n",
    "                    for j in range(len(contours[i_cs]))]\n",
    "        \n",
    "        \n",
    "        if i_cs == 0:\n",
    "            return_top = True\n",
    "        else:\n",
    "            return_top = False\n",
    "        \n",
    "        contour_set = get_contours_from_profiles(profiles,\n",
    "                                                return_top,\n",
    "                                                )\n",
    "        all_contours.extend(contour_set)\n",
    "        \n",
    "    return all_contours"
   ]
  },
  {
   "cell_type": "code",
   "execution_count": 17,
   "id": "f1d72c9a",
   "metadata": {},
   "outputs": [],
   "source": [
    "mesh = make_mesh_from_prepared_contours(prepped_contours,\n",
    "                                            down_dip_pt_spacing=0.5)\n",
    "tri_mesh = make_tri_mesh(mesh)"
   ]
  },
  {
   "cell_type": "code",
   "execution_count": 18,
   "id": "7a677c30",
   "metadata": {},
   "outputs": [],
   "source": [
    "write_cfm_tri_meshes(\"../misc_data/cross_sections/yakima_folds/manastash_3d.geojson\",\n",
    "                     [tri_mesh],\n",
    "                     [{'properties':{'name': 'manastash_3d'}}],\n",
    "                    )"
   ]
  },
  {
   "cell_type": "code",
   "execution_count": null,
   "id": "b370d581",
   "metadata": {},
   "outputs": [],
   "source": []
  }
 ],
 "metadata": {
  "kernelspec": {
   "display_name": "Python 3 (ipykernel)",
   "language": "python",
   "name": "python3"
  },
  "language_info": {
   "codemirror_mode": {
    "name": "ipython",
    "version": 3
   },
   "file_extension": ".py",
   "mimetype": "text/x-python",
   "name": "python",
   "nbconvert_exporter": "python",
   "pygments_lexer": "ipython3",
   "version": "3.10.6"
  }
 },
 "nbformat": 4,
 "nbformat_minor": 5
}
