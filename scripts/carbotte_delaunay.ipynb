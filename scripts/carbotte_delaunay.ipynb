{
 "cells": [
  {
   "cell_type": "code",
   "execution_count": 1,
   "id": "f354394f",
   "metadata": {},
   "outputs": [],
   "source": [
    "import numpy as np\n",
    "import matplotlib.pyplot as plt\n",
    "import matplotlib.tri as mtri\n",
    "import matplotlib.path as mpath\n",
    "import pandas as pd\n",
    "import json"
   ]
  },
  {
   "cell_type": "code",
   "execution_count": 21,
   "id": "e5154c05",
   "metadata": {},
   "outputs": [],
   "source": [
    "import sys\n",
    "sys.path.append(\"../\")\n",
    "from ccfm.ccfm import write_cfm_tri_meshes"
   ]
  },
  {
   "cell_type": "code",
   "execution_count": 2,
   "id": "91f1e611",
   "metadata": {},
   "outputs": [],
   "source": [
    "casie_plt_boundary_file = \"../input_fault_data/casie21/Casie21-R2T-PlateBdy_medflt-surface-mask-notnull.csv\"\n",
    "casie_pt_boundary_boundary_file = \"../input_fault_data/casie21/casie21_platebdy_boundary.geojson\""
   ]
  },
  {
   "cell_type": "code",
   "execution_count": 3,
   "id": "17e2170a",
   "metadata": {},
   "outputs": [],
   "source": [
    "pts = pd.read_csv(casie_plt_boundary_file)"
   ]
  },
  {
   "cell_type": "code",
   "execution_count": 4,
   "id": "5ebaac62",
   "metadata": {},
   "outputs": [
    {
     "data": {
      "text/html": [
       "<div>\n",
       "<style scoped>\n",
       "    .dataframe tbody tr th:only-of-type {\n",
       "        vertical-align: middle;\n",
       "    }\n",
       "\n",
       "    .dataframe tbody tr th {\n",
       "        vertical-align: top;\n",
       "    }\n",
       "\n",
       "    .dataframe thead th {\n",
       "        text-align: right;\n",
       "    }\n",
       "</style>\n",
       "<table border=\"1\" class=\"dataframe\">\n",
       "  <thead>\n",
       "    <tr style=\"text-align: right;\">\n",
       "      <th></th>\n",
       "      <th>lon</th>\n",
       "      <th>lat</th>\n",
       "      <th>depth</th>\n",
       "    </tr>\n",
       "  </thead>\n",
       "  <tbody>\n",
       "    <tr>\n",
       "      <th>0</th>\n",
       "      <td>-128.741935</td>\n",
       "      <td>50.0</td>\n",
       "      <td>-4579.860352</td>\n",
       "    </tr>\n",
       "    <tr>\n",
       "      <th>1</th>\n",
       "      <td>-128.709677</td>\n",
       "      <td>50.0</td>\n",
       "      <td>-4835.104980</td>\n",
       "    </tr>\n",
       "    <tr>\n",
       "      <th>2</th>\n",
       "      <td>-128.677419</td>\n",
       "      <td>50.0</td>\n",
       "      <td>-5090.997559</td>\n",
       "    </tr>\n",
       "    <tr>\n",
       "      <th>3</th>\n",
       "      <td>-128.645161</td>\n",
       "      <td>50.0</td>\n",
       "      <td>-5347.662598</td>\n",
       "    </tr>\n",
       "    <tr>\n",
       "      <th>4</th>\n",
       "      <td>-128.612903</td>\n",
       "      <td>50.0</td>\n",
       "      <td>-5605.197754</td>\n",
       "    </tr>\n",
       "  </tbody>\n",
       "</table>\n",
       "</div>"
      ],
      "text/plain": [
       "          lon   lat        depth\n",
       "0 -128.741935  50.0 -4579.860352\n",
       "1 -128.709677  50.0 -4835.104980\n",
       "2 -128.677419  50.0 -5090.997559\n",
       "3 -128.645161  50.0 -5347.662598\n",
       "4 -128.612903  50.0 -5605.197754"
      ]
     },
     "execution_count": 4,
     "metadata": {},
     "output_type": "execute_result"
    }
   ],
   "source": [
    "pts.head()"
   ]
  },
  {
   "cell_type": "code",
   "execution_count": 5,
   "id": "98d07940",
   "metadata": {},
   "outputs": [],
   "source": [
    "triang = mtri.Triangulation(pts.lon.values, pts.lat.values)"
   ]
  },
  {
   "cell_type": "code",
   "execution_count": 6,
   "id": "8e9d0bf2",
   "metadata": {},
   "outputs": [
    {
     "data": {
      "text/plain": [
       "array([11254,  9165,  6678], dtype=int32)"
      ]
     },
     "execution_count": 6,
     "metadata": {},
     "output_type": "execute_result"
    }
   ],
   "source": [
    "triang.triangles[0]"
   ]
  },
  {
   "cell_type": "code",
   "execution_count": 7,
   "id": "1f6f4cd1",
   "metadata": {},
   "outputs": [],
   "source": [
    "def _get_tri_pts(tri, pts):\n",
    "    p1 = pts.loc[tri[0]]\n",
    "    p2 = pts.loc[tri[1]]\n",
    "    p3 = pts.loc[tri[2]]\n",
    "    \n",
    "    return [p1, p2, p3]\n",
    "\n",
    "def tri_centroid(tri, pts=pts):\n",
    "    p1, p2, p3 = _get_tri_pts(tri, pts)\n",
    "    \n",
    "    lon = np.mean([p1.lon, p2.lon, p3.lon])\n",
    "    lat = np.mean([p1.lat, p2.lat, p3.lat])\n",
    "    depth = np.mean([p1.depth, p2.depth, p3.depth])\n",
    "    \n",
    "    return lon, lat, depth\n",
    "    \n",
    "    "
   ]
  },
  {
   "cell_type": "code",
   "execution_count": 8,
   "id": "1224f9da",
   "metadata": {},
   "outputs": [
    {
     "data": {
      "text/plain": [
       "(-125.63440860200001, 45.06790123456667, -5070.732259116667)"
      ]
     },
     "execution_count": 8,
     "metadata": {},
     "output_type": "execute_result"
    }
   ],
   "source": [
    "tri_centroid(triang.triangles[0])"
   ]
  },
  {
   "cell_type": "code",
   "execution_count": 9,
   "id": "b935e9be",
   "metadata": {},
   "outputs": [],
   "source": [
    "tri_centroids = [tri_centroid(tri) for tri in triang.triangles]"
   ]
  },
  {
   "cell_type": "code",
   "execution_count": 10,
   "id": "308635ca",
   "metadata": {},
   "outputs": [],
   "source": [
    "centroid_latlons = np.array([[t[0],t[1]] for t in tri_centroids])"
   ]
  },
  {
   "cell_type": "code",
   "execution_count": 11,
   "id": "aa75c7c2",
   "metadata": {},
   "outputs": [],
   "source": [
    "with open(casie_pt_boundary_boundary_file) as f:\n",
    "    pbj = json.load(f)"
   ]
  },
  {
   "cell_type": "code",
   "execution_count": 12,
   "id": "84227f10",
   "metadata": {},
   "outputs": [],
   "source": [
    "bounds = pbj['features'][0]['geometry']['coordinates'][0]\n",
    "\n",
    "bound_path = mpath.Path(bounds)"
   ]
  },
  {
   "cell_type": "code",
   "execution_count": 13,
   "id": "8f1b2fdf",
   "metadata": {},
   "outputs": [],
   "source": [
    "pts_in_bounds = bound_path.contains_points(centroid_latlons)"
   ]
  },
  {
   "cell_type": "code",
   "execution_count": 14,
   "id": "e7114868",
   "metadata": {},
   "outputs": [],
   "source": [
    "def tri_to_feature(tri, pts=pts):\n",
    "    p1, p2, p3 = _get_tri_pts(tri, pts)\n",
    "    f = {'geometry': {\n",
    "            'coordinates': [\n",
    "                [[np.round(p1.lon, 5), np.round(p1.lat, 5), np.round(p1.depth, 1)],\n",
    "                 [np.round(p2.lon, 5), np.round(p2.lat, 5), np.round(p2.depth, 1)],\n",
    "                 [np.round(p3.lon, 5), np.round(p3.lat, 5), np.round(p3.depth, 1)],\n",
    "                 [np.round(p1.lon, 5), np.round(p1.lat, 5), np.round(p1.depth, 1)]]\n",
    "                ],\n",
    "             'type': 'Polygon'},\n",
    "        'properties': {},\n",
    "        'type': 'Feature'\n",
    "    }\n",
    "    \n",
    "    return f\n",
    "         "
   ]
  },
  {
   "cell_type": "code",
   "execution_count": 15,
   "id": "041b4d09",
   "metadata": {},
   "outputs": [
    {
     "data": {
      "text/plain": [
       "{'geometry': {'coordinates': [[[-125.51613, 43.77116, -4605.2],\n",
       "    [-125.51613, 45.0754, -5494.6],\n",
       "    [-125.87097, 46.35714, -5112.4],\n",
       "    [-125.51613, 43.77116, -4605.2]]],\n",
       "  'type': 'Polygon'},\n",
       " 'properties': {},\n",
       " 'type': 'Feature'}"
      ]
     },
     "execution_count": 15,
     "metadata": {},
     "output_type": "execute_result"
    }
   ],
   "source": [
    "tri_to_feature(triang.triangles[0])"
   ]
  },
  {
   "cell_type": "code",
   "execution_count": 16,
   "id": "ceb2542c",
   "metadata": {},
   "outputs": [],
   "source": [
    "tris_in_boundary = [tri_to_feature(tri)\n",
    "                    for i, tri in enumerate(triang.triangles)\n",
    "                    if pts_in_bounds[i]\n",
    "                   ]"
   ]
  },
  {
   "cell_type": "code",
   "execution_count": 17,
   "id": "db539938",
   "metadata": {},
   "outputs": [],
   "source": [
    "tri_geojson = {\n",
    "    'type': 'FeatureCollection',\n",
    "    'name': 'casie21_platebdy_boundary',\n",
    "    'crs': {'type': 'name',\n",
    "    'properties': {'name': 'urn:ogc:def:crs:OGC:1.3:CRS84'}},\n",
    "    'features': tris_in_boundary\n",
    "}"
   ]
  },
  {
   "cell_type": "code",
   "execution_count": 18,
   "id": "552bfa75",
   "metadata": {},
   "outputs": [],
   "source": [
    "with open(\n",
    "    \"../crescent_cfm_files/casie21_plate_boundary.geojson\", 'w') as f:\n",
    "    json.dump(tri_geojson, f)"
   ]
  },
  {
   "cell_type": "code",
   "execution_count": 19,
   "id": "070426ce",
   "metadata": {},
   "outputs": [],
   "source": [
    "def tri_to_part(tri, pts=pts):\n",
    "    p1, p2, p3 = _get_tri_pts(tri, pts)\n",
    "    coords = [[np.round(p1.lon, 5), np.round(p1.lat, 5), np.round(p1.depth, 1)],\n",
    "              [np.round(p2.lon, 5), np.round(p2.lat, 5), np.round(p2.depth, 1)],\n",
    "              [np.round(p3.lon, 5), np.round(p3.lat, 5), np.round(p3.depth, 1)],\n",
    "              [np.round(p1.lon, 5), np.round(p1.lat, 5), np.round(p1.depth, 1)]]\n",
    "    return coords"
   ]
  },
  {
   "cell_type": "code",
   "execution_count": 20,
   "id": "3b9db431",
   "metadata": {},
   "outputs": [],
   "source": [
    "mesh = [tri_to_part(tri)\n",
    "        for i, tri in enumerate(triang.triangles)\n",
    "        if pts_in_bounds[i]\n",
    "       ]"
   ]
  },
  {
   "cell_type": "code",
   "execution_count": 22,
   "id": "fdba9f6d",
   "metadata": {},
   "outputs": [],
   "source": [
    "mesh_info = {'properties':{'name': 'casie21_plate_boundary', 'source': 'Carbotte et al., 2024'}}"
   ]
  },
  {
   "cell_type": "code",
   "execution_count": 23,
   "id": "fde2909d",
   "metadata": {},
   "outputs": [],
   "source": [
    "write_cfm_tri_meshes(\n",
    "    \"../crescent_cfm_files/casie21_plate_boundary_multipart.geojson\",\n",
    "    [mesh],\n",
    "    [mesh_info],\n",
    "    minify=True\n",
    ")"
   ]
  },
  {
   "cell_type": "code",
   "execution_count": null,
   "id": "03338acc",
   "metadata": {},
   "outputs": [],
   "source": []
  }
 ],
 "metadata": {
  "kernelspec": {
   "display_name": "Python 3 (ipykernel)",
   "language": "python",
   "name": "python3"
  },
  "language_info": {
   "codemirror_mode": {
    "name": "ipython",
    "version": 3
   },
   "file_extension": ".py",
   "mimetype": "text/x-python",
   "name": "python",
   "nbconvert_exporter": "python",
   "pygments_lexer": "ipython3",
   "version": "3.10.6"
  }
 },
 "nbformat": 4,
 "nbformat_minor": 5
}
