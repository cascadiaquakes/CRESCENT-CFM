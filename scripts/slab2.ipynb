{
 "cells": [
  {
   "cell_type": "code",
   "execution_count": 1,
   "id": "57cfeae5",
   "metadata": {},
   "outputs": [],
   "source": [
    "import numpy as np\n",
    "import matplotlib.pyplot as plt\n",
    "import matplotlib.tri as mtri\n",
    "import matplotlib.path as mpath\n",
    "import pandas as pd\n",
    "import json"
   ]
  },
  {
   "cell_type": "code",
   "execution_count": 2,
   "id": "a4baa034",
   "metadata": {},
   "outputs": [],
   "source": [
    "import sys\n",
    "sys.path.append(\"../\")\n",
    "from ccfm.ccfm import write_cfm_tri_meshes"
   ]
  },
  {
   "cell_type": "code",
   "execution_count": 3,
   "id": "2e88e662",
   "metadata": {},
   "outputs": [],
   "source": [
    "!gmt grd2xyz ../misc_data/cascadia_interface/cas_slab2_dep_02.24.18.grd > ../misc_data/cascadia_interface/cas_slab2_dep_02.24.18.xyz"
   ]
  },
  {
   "cell_type": "code",
   "execution_count": 4,
   "id": "79d83e83",
   "metadata": {},
   "outputs": [
    {
     "data": {
      "text/html": [
       "<div>\n",
       "<style scoped>\n",
       "    .dataframe tbody tr th:only-of-type {\n",
       "        vertical-align: middle;\n",
       "    }\n",
       "\n",
       "    .dataframe tbody tr th {\n",
       "        vertical-align: top;\n",
       "    }\n",
       "\n",
       "    .dataframe thead th {\n",
       "        text-align: right;\n",
       "    }\n",
       "</style>\n",
       "<table border=\"1\" class=\"dataframe\">\n",
       "  <thead>\n",
       "    <tr style=\"text-align: right;\">\n",
       "      <th></th>\n",
       "      <th>lon</th>\n",
       "      <th>lat</th>\n",
       "      <th>depth</th>\n",
       "    </tr>\n",
       "  </thead>\n",
       "  <tbody>\n",
       "    <tr>\n",
       "      <th>137536</th>\n",
       "      <td>244.80</td>\n",
       "      <td>35.0</td>\n",
       "      <td>NaN</td>\n",
       "    </tr>\n",
       "    <tr>\n",
       "      <th>137537</th>\n",
       "      <td>244.85</td>\n",
       "      <td>35.0</td>\n",
       "      <td>NaN</td>\n",
       "    </tr>\n",
       "    <tr>\n",
       "      <th>137538</th>\n",
       "      <td>244.90</td>\n",
       "      <td>35.0</td>\n",
       "      <td>NaN</td>\n",
       "    </tr>\n",
       "    <tr>\n",
       "      <th>137539</th>\n",
       "      <td>244.95</td>\n",
       "      <td>35.0</td>\n",
       "      <td>NaN</td>\n",
       "    </tr>\n",
       "    <tr>\n",
       "      <th>137540</th>\n",
       "      <td>245.00</td>\n",
       "      <td>35.0</td>\n",
       "      <td>NaN</td>\n",
       "    </tr>\n",
       "  </tbody>\n",
       "</table>\n",
       "</div>"
      ],
      "text/plain": [
       "           lon   lat  depth\n",
       "137536  244.80  35.0    NaN\n",
       "137537  244.85  35.0    NaN\n",
       "137538  244.90  35.0    NaN\n",
       "137539  244.95  35.0    NaN\n",
       "137540  245.00  35.0    NaN"
      ]
     },
     "execution_count": 4,
     "metadata": {},
     "output_type": "execute_result"
    }
   ],
   "source": [
    "slab2_pts_orig = pd.read_csv(\"../input_fault_data/slab2/cas_slab2_dep_02.24.18.xyz\",\n",
    "                             sep=\"\\t\", names=['lon', 'lat', 'depth'])\n",
    "\n",
    "slab2_pts_orig.tail()"
   ]
  },
  {
   "cell_type": "code",
   "execution_count": 5,
   "id": "d2f8f52b",
   "metadata": {},
   "outputs": [],
   "source": [
    "slab2_pts_orig.lon -= 360.0\n",
    "slab2_pts_orig.depth *= 1000.0"
   ]
  },
  {
   "cell_type": "code",
   "execution_count": 6,
   "id": "332d51d1",
   "metadata": {},
   "outputs": [],
   "source": [
    "slab2_dropna = slab2_pts_orig.dropna().reset_index()"
   ]
  },
  {
   "cell_type": "code",
   "execution_count": 7,
   "id": "01eb7f31",
   "metadata": {},
   "outputs": [],
   "source": [
    "slab2_dropna.to_csv(\"../input_fault_data/slab2/cas_slab2_dep_02.24.18_nonull.csv\", index=False)"
   ]
  },
  {
   "cell_type": "code",
   "execution_count": 8,
   "id": "62a9690b",
   "metadata": {},
   "outputs": [
    {
     "data": {
      "text/html": [
       "<div>\n",
       "<style scoped>\n",
       "    .dataframe tbody tr th:only-of-type {\n",
       "        vertical-align: middle;\n",
       "    }\n",
       "\n",
       "    .dataframe tbody tr th {\n",
       "        vertical-align: top;\n",
       "    }\n",
       "\n",
       "    .dataframe thead th {\n",
       "        text-align: right;\n",
       "    }\n",
       "</style>\n",
       "<table border=\"1\" class=\"dataframe\">\n",
       "  <thead>\n",
       "    <tr style=\"text-align: right;\">\n",
       "      <th></th>\n",
       "      <th>index</th>\n",
       "      <th>lon</th>\n",
       "      <th>lat</th>\n",
       "      <th>depth</th>\n",
       "    </tr>\n",
       "  </thead>\n",
       "  <tbody>\n",
       "    <tr>\n",
       "      <th>26632</th>\n",
       "      <td>111092</td>\n",
       "      <td>-119.75</td>\n",
       "      <td>38.65</td>\n",
       "      <td>-416901.062012</td>\n",
       "    </tr>\n",
       "    <tr>\n",
       "      <th>26633</th>\n",
       "      <td>111450</td>\n",
       "      <td>-119.90</td>\n",
       "      <td>38.60</td>\n",
       "      <td>-393525.604248</td>\n",
       "    </tr>\n",
       "    <tr>\n",
       "      <th>26634</th>\n",
       "      <td>111451</td>\n",
       "      <td>-119.85</td>\n",
       "      <td>38.60</td>\n",
       "      <td>-402742.065430</td>\n",
       "    </tr>\n",
       "    <tr>\n",
       "      <th>26635</th>\n",
       "      <td>111452</td>\n",
       "      <td>-119.80</td>\n",
       "      <td>38.60</td>\n",
       "      <td>-412147.552490</td>\n",
       "    </tr>\n",
       "    <tr>\n",
       "      <th>26636</th>\n",
       "      <td>111813</td>\n",
       "      <td>-119.80</td>\n",
       "      <td>38.55</td>\n",
       "      <td>-416709.960938</td>\n",
       "    </tr>\n",
       "  </tbody>\n",
       "</table>\n",
       "</div>"
      ],
      "text/plain": [
       "        index     lon    lat          depth\n",
       "26632  111092 -119.75  38.65 -416901.062012\n",
       "26633  111450 -119.90  38.60 -393525.604248\n",
       "26634  111451 -119.85  38.60 -402742.065430\n",
       "26635  111452 -119.80  38.60 -412147.552490\n",
       "26636  111813 -119.80  38.55 -416709.960938"
      ]
     },
     "execution_count": 8,
     "metadata": {},
     "output_type": "execute_result"
    }
   ],
   "source": [
    "slab2_dropna.tail()"
   ]
  },
  {
   "cell_type": "code",
   "execution_count": 9,
   "id": "b28b25a6",
   "metadata": {},
   "outputs": [],
   "source": [
    "triang = mtri.Triangulation(slab2_dropna.lon.values, slab2_dropna.lat.values)"
   ]
  },
  {
   "cell_type": "code",
   "execution_count": 10,
   "id": "a947d000",
   "metadata": {},
   "outputs": [],
   "source": [
    "def _get_tri_pts(tri, pts):\n",
    "    p1 = pts.loc[tri[0]]\n",
    "    p2 = pts.loc[tri[1]]\n",
    "    p3 = pts.loc[tri[2]]\n",
    "    \n",
    "    return [p1, p2, p3]\n",
    "\n",
    "def tri_centroid(tri, pts=slab2_dropna):\n",
    "    p1, p2, p3 = _get_tri_pts(tri, pts)\n",
    "    \n",
    "    lon = np.mean([p1.lon, p2.lon, p3.lon])\n",
    "    lat = np.mean([p1.lat, p2.lat, p3.lat])\n",
    "    depth = np.mean([p1.depth, p2.depth, p3.depth])\n",
    "    \n",
    "    return lon, lat, depth"
   ]
  },
  {
   "cell_type": "code",
   "execution_count": 11,
   "id": "ed0dbaa0",
   "metadata": {},
   "outputs": [
    {
     "data": {
      "text/plain": [
       "(-118.85000000000001, 47.96666666666666, -334596.8322756667)"
      ]
     },
     "execution_count": 11,
     "metadata": {},
     "output_type": "execute_result"
    }
   ],
   "source": [
    "tri_centroid(triang.triangles[0])"
   ]
  },
  {
   "cell_type": "code",
   "execution_count": 12,
   "id": "db4a87ee",
   "metadata": {},
   "outputs": [],
   "source": [
    "tri_centroids = [tri_centroid(tri) for tri in triang.triangles]"
   ]
  },
  {
   "cell_type": "code",
   "execution_count": 13,
   "id": "8c5fd52a",
   "metadata": {},
   "outputs": [],
   "source": [
    "centroid_latlons = np.array([[t[0],t[1]] for t in tri_centroids])"
   ]
  },
  {
   "cell_type": "code",
   "execution_count": 14,
   "id": "b379f874",
   "metadata": {},
   "outputs": [],
   "source": [
    "# this file was made in QGIS by manually making a polygon \n",
    "# connecting all of the exterior points of the slab2_dropna points\n",
    "\n",
    "bound_file = \"../input_fault_data/slab2/cas_slab2_dep_02.24.18_nonull_bounds.geojson\"\n",
    "\n",
    "with open(bound_file) as f:\n",
    "    pbj = json.load(f)"
   ]
  },
  {
   "cell_type": "code",
   "execution_count": 15,
   "id": "fee992db",
   "metadata": {},
   "outputs": [],
   "source": [
    "bounds = pbj['features'][0]['geometry']['coordinates'][0]\n",
    "\n",
    "bound_path = mpath.Path(bounds)"
   ]
  },
  {
   "cell_type": "code",
   "execution_count": 16,
   "id": "fded7d8f",
   "metadata": {},
   "outputs": [],
   "source": [
    "pts_in_bounds = bound_path.contains_points(centroid_latlons)"
   ]
  },
  {
   "cell_type": "code",
   "execution_count": 17,
   "id": "52b844fd",
   "metadata": {},
   "outputs": [],
   "source": [
    "def tri_to_feature(tri, pts=slab2_dropna):\n",
    "    p1, p2, p3 = _get_tri_pts(tri, pts)\n",
    "    f = {'geometry': {\n",
    "            'coordinates': [\n",
    "                [[np.round(p1.lon, 5), np.round(p1.lat, 5), np.round(p1.depth, 1)],\n",
    "                 [np.round(p2.lon, 5), np.round(p2.lat, 5), np.round(p2.depth, 1)],\n",
    "                 [np.round(p3.lon, 5), np.round(p3.lat, 5), np.round(p3.depth, 1)],\n",
    "                 [np.round(p1.lon, 5), np.round(p1.lat, 5), np.round(p1.depth, 1)]]\n",
    "                ],\n",
    "             'type': 'Polygon'},\n",
    "        'properties': {},\n",
    "        'type': 'Feature'\n",
    "    }\n",
    "    \n",
    "    return f"
   ]
  },
  {
   "cell_type": "code",
   "execution_count": 18,
   "id": "994d4ff5",
   "metadata": {},
   "outputs": [
    {
     "data": {
      "text/plain": [
       "{'geometry': {'coordinates': [[[-118.95, 48.05, -308649.8],\n",
       "    [-118.8, 47.3, -318528.5],\n",
       "    [-118.8, 48.55, -376612.2],\n",
       "    [-118.95, 48.05, -308649.8]]],\n",
       "  'type': 'Polygon'},\n",
       " 'properties': {},\n",
       " 'type': 'Feature'}"
      ]
     },
     "execution_count": 18,
     "metadata": {},
     "output_type": "execute_result"
    }
   ],
   "source": [
    "tri_to_feature(triang.triangles[0])"
   ]
  },
  {
   "cell_type": "code",
   "execution_count": 19,
   "id": "91bd17b0",
   "metadata": {},
   "outputs": [],
   "source": [
    "tris_in_boundary = [tri_to_feature(tri)\n",
    "                    for i, tri in enumerate(triang.triangles)\n",
    "                    if pts_in_bounds[i]\n",
    "                   ]"
   ]
  },
  {
   "cell_type": "code",
   "execution_count": 20,
   "id": "f2ccf3bc",
   "metadata": {},
   "outputs": [],
   "source": [
    "tri_geojson = {\n",
    "    'type': 'FeatureCollection',\n",
    "    'name': 'slab2_cascadia_interface',\n",
    "    'crs': {'type': 'name',\n",
    "    'properties': {'name': 'urn:ogc:def:crs:OGC:1.3:CRS84'}},\n",
    "    'features': tris_in_boundary\n",
    "}"
   ]
  },
  {
   "cell_type": "code",
   "execution_count": 21,
   "id": "a194df06",
   "metadata": {},
   "outputs": [],
   "source": [
    "with open(\n",
    "    \"../crescent_cfm_files/slab2_cascadia_interface.geojson\", 'w') as f:\n",
    "    json.dump(tri_geojson, f)"
   ]
  },
  {
   "cell_type": "code",
   "execution_count": 22,
   "id": "0715521a",
   "metadata": {},
   "outputs": [],
   "source": [
    "def tri_to_part(tri, pts=slab2_dropna):\n",
    "    p1, p2, p3 = _get_tri_pts(tri, pts)\n",
    "    coords = [[np.round(p1.lon, 5), np.round(p1.lat, 5), np.round(p1.depth, 1)],\n",
    "              [np.round(p2.lon, 5), np.round(p2.lat, 5), np.round(p2.depth, 1)],\n",
    "              [np.round(p3.lon, 5), np.round(p3.lat, 5), np.round(p3.depth, 1)],\n",
    "              [np.round(p1.lon, 5), np.round(p1.lat, 5), np.round(p1.depth, 1)]]\n",
    "    return coords\n",
    "    "
   ]
  },
  {
   "cell_type": "code",
   "execution_count": 23,
   "id": "49b0d434",
   "metadata": {},
   "outputs": [],
   "source": [
    "mesh = [tri_to_part(tri)\n",
    "        for i, tri in enumerate(triang.triangles)\n",
    "        if pts_in_bounds[i]\n",
    "       ]"
   ]
  },
  {
   "cell_type": "code",
   "execution_count": 24,
   "id": "19ab5d6c",
   "metadata": {},
   "outputs": [],
   "source": [
    "mesh_info = {'properties':{'name': 'slab2_cascadia_interface', 'source': 'Hayes et al. 2018'}}"
   ]
  },
  {
   "cell_type": "code",
   "execution_count": 25,
   "id": "066d6d7d",
   "metadata": {},
   "outputs": [],
   "source": [
    "write_cfm_tri_meshes(\n",
    "    \"../crescent_cfm_files/slab2_cascadia_interface_multipart.geojson\",\n",
    "    [mesh],\n",
    "    [mesh_info],\n",
    "    minify=True\n",
    ")"
   ]
  },
  {
   "cell_type": "code",
   "execution_count": null,
   "id": "399087c3",
   "metadata": {},
   "outputs": [],
   "source": []
  }
 ],
 "metadata": {
  "kernelspec": {
   "display_name": "Python 3 (ipykernel)",
   "language": "python",
   "name": "python3"
  },
  "language_info": {
   "codemirror_mode": {
    "name": "ipython",
    "version": 3
   },
   "file_extension": ".py",
   "mimetype": "text/x-python",
   "name": "python",
   "nbconvert_exporter": "python",
   "pygments_lexer": "ipython3",
   "version": "3.10.6"
  }
 },
 "nbformat": 4,
 "nbformat_minor": 5
}
